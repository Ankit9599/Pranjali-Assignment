{
 "cells": [
  {
   "cell_type": "code",
   "execution_count": 1,
   "id": "830469e0",
   "metadata": {},
   "outputs": [],
   "source": [
    "import pandas as pd\n",
    "from datetime import datetime"
   ]
  },
  {
   "cell_type": "code",
   "execution_count": 2,
   "id": "6c4c271f",
   "metadata": {},
   "outputs": [],
   "source": [
    "df = pd.read_csv('data.csv')"
   ]
  },
  {
   "cell_type": "code",
   "execution_count": 3,
   "id": "0bade3fd",
   "metadata": {},
   "outputs": [
    {
     "data": {
      "text/html": [
       "<div>\n",
       "<style scoped>\n",
       "    .dataframe tbody tr th:only-of-type {\n",
       "        vertical-align: middle;\n",
       "    }\n",
       "\n",
       "    .dataframe tbody tr th {\n",
       "        vertical-align: top;\n",
       "    }\n",
       "\n",
       "    .dataframe thead th {\n",
       "        text-align: right;\n",
       "    }\n",
       "</style>\n",
       "<table border=\"1\" class=\"dataframe\">\n",
       "  <thead>\n",
       "    <tr style=\"text-align: right;\">\n",
       "      <th></th>\n",
       "      <th>Ticker</th>\n",
       "      <th>Date</th>\n",
       "      <th>Time</th>\n",
       "      <th>Open</th>\n",
       "      <th>High</th>\n",
       "      <th>Low</th>\n",
       "      <th>Close</th>\n",
       "      <th>Volume</th>\n",
       "      <th>Open Interest</th>\n",
       "    </tr>\n",
       "  </thead>\n",
       "  <tbody>\n",
       "    <tr>\n",
       "      <th>0</th>\n",
       "      <td>AARTIIND27JAN221000CE.NFO</td>\n",
       "      <td>03/01/2022</td>\n",
       "      <td>09:15:59</td>\n",
       "      <td>38.00</td>\n",
       "      <td>40.05</td>\n",
       "      <td>37.00</td>\n",
       "      <td>37.00</td>\n",
       "      <td>5100</td>\n",
       "      <td>212500</td>\n",
       "    </tr>\n",
       "    <tr>\n",
       "      <th>1</th>\n",
       "      <td>AARTIIND27JAN221000CE.NFO</td>\n",
       "      <td>03/01/2022</td>\n",
       "      <td>09:16:59</td>\n",
       "      <td>42.00</td>\n",
       "      <td>42.00</td>\n",
       "      <td>38.05</td>\n",
       "      <td>38.05</td>\n",
       "      <td>3400</td>\n",
       "      <td>212500</td>\n",
       "    </tr>\n",
       "    <tr>\n",
       "      <th>2</th>\n",
       "      <td>AARTIIND27JAN221000CE.NFO</td>\n",
       "      <td>03/01/2022</td>\n",
       "      <td>09:17:59</td>\n",
       "      <td>38.05</td>\n",
       "      <td>40.85</td>\n",
       "      <td>38.05</td>\n",
       "      <td>39.30</td>\n",
       "      <td>5100</td>\n",
       "      <td>211650</td>\n",
       "    </tr>\n",
       "    <tr>\n",
       "      <th>3</th>\n",
       "      <td>AARTIIND27JAN221000CE.NFO</td>\n",
       "      <td>03/01/2022</td>\n",
       "      <td>09:18:59</td>\n",
       "      <td>41.45</td>\n",
       "      <td>42.50</td>\n",
       "      <td>39.30</td>\n",
       "      <td>42.50</td>\n",
       "      <td>18700</td>\n",
       "      <td>211650</td>\n",
       "    </tr>\n",
       "    <tr>\n",
       "      <th>4</th>\n",
       "      <td>AARTIIND27JAN221000CE.NFO</td>\n",
       "      <td>03/01/2022</td>\n",
       "      <td>09:19:59</td>\n",
       "      <td>42.75</td>\n",
       "      <td>43.00</td>\n",
       "      <td>42.75</td>\n",
       "      <td>43.00</td>\n",
       "      <td>6800</td>\n",
       "      <td>211650</td>\n",
       "    </tr>\n",
       "    <tr>\n",
       "      <th>...</th>\n",
       "      <td>...</td>\n",
       "      <td>...</td>\n",
       "      <td>...</td>\n",
       "      <td>...</td>\n",
       "      <td>...</td>\n",
       "      <td>...</td>\n",
       "      <td>...</td>\n",
       "      <td>...</td>\n",
       "      <td>...</td>\n",
       "    </tr>\n",
       "    <tr>\n",
       "      <th>698088</th>\n",
       "      <td>ZEEL-II.NFO</td>\n",
       "      <td>03/01/2022</td>\n",
       "      <td>15:27:59</td>\n",
       "      <td>325.80</td>\n",
       "      <td>325.80</td>\n",
       "      <td>325.70</td>\n",
       "      <td>325.70</td>\n",
       "      <td>3000</td>\n",
       "      <td>915000</td>\n",
       "    </tr>\n",
       "    <tr>\n",
       "      <th>698089</th>\n",
       "      <td>ZEEL-II.NFO</td>\n",
       "      <td>03/01/2022</td>\n",
       "      <td>15:29:59</td>\n",
       "      <td>325.55</td>\n",
       "      <td>325.55</td>\n",
       "      <td>325.55</td>\n",
       "      <td>325.55</td>\n",
       "      <td>3000</td>\n",
       "      <td>915000</td>\n",
       "    </tr>\n",
       "    <tr>\n",
       "      <th>698090</th>\n",
       "      <td>ZEEL-III.NFO</td>\n",
       "      <td>03/01/2022</td>\n",
       "      <td>09:32:59</td>\n",
       "      <td>326.50</td>\n",
       "      <td>327.00</td>\n",
       "      <td>326.50</td>\n",
       "      <td>327.00</td>\n",
       "      <td>6000</td>\n",
       "      <td>9000</td>\n",
       "    </tr>\n",
       "    <tr>\n",
       "      <th>698091</th>\n",
       "      <td>ZEEL-III.NFO</td>\n",
       "      <td>03/01/2022</td>\n",
       "      <td>11:56:59</td>\n",
       "      <td>327.00</td>\n",
       "      <td>328.15</td>\n",
       "      <td>327.00</td>\n",
       "      <td>328.15</td>\n",
       "      <td>3000</td>\n",
       "      <td>12000</td>\n",
       "    </tr>\n",
       "    <tr>\n",
       "      <th>698092</th>\n",
       "      <td>ZEEL-III.NFO</td>\n",
       "      <td>03/01/2022</td>\n",
       "      <td>12:44:59</td>\n",
       "      <td>328.15</td>\n",
       "      <td>328.15</td>\n",
       "      <td>326.35</td>\n",
       "      <td>326.35</td>\n",
       "      <td>3000</td>\n",
       "      <td>15000</td>\n",
       "    </tr>\n",
       "  </tbody>\n",
       "</table>\n",
       "<p>698093 rows × 9 columns</p>\n",
       "</div>"
      ],
      "text/plain": [
       "                           Ticker        Date      Time    Open    High  \\\n",
       "0       AARTIIND27JAN221000CE.NFO  03/01/2022  09:15:59   38.00   40.05   \n",
       "1       AARTIIND27JAN221000CE.NFO  03/01/2022  09:16:59   42.00   42.00   \n",
       "2       AARTIIND27JAN221000CE.NFO  03/01/2022  09:17:59   38.05   40.85   \n",
       "3       AARTIIND27JAN221000CE.NFO  03/01/2022  09:18:59   41.45   42.50   \n",
       "4       AARTIIND27JAN221000CE.NFO  03/01/2022  09:19:59   42.75   43.00   \n",
       "...                           ...         ...       ...     ...     ...   \n",
       "698088                ZEEL-II.NFO  03/01/2022  15:27:59  325.80  325.80   \n",
       "698089                ZEEL-II.NFO  03/01/2022  15:29:59  325.55  325.55   \n",
       "698090               ZEEL-III.NFO  03/01/2022  09:32:59  326.50  327.00   \n",
       "698091               ZEEL-III.NFO  03/01/2022  11:56:59  327.00  328.15   \n",
       "698092               ZEEL-III.NFO  03/01/2022  12:44:59  328.15  328.15   \n",
       "\n",
       "           Low   Close  Volume  Open Interest  \n",
       "0        37.00   37.00    5100         212500  \n",
       "1        38.05   38.05    3400         212500  \n",
       "2        38.05   39.30    5100         211650  \n",
       "3        39.30   42.50   18700         211650  \n",
       "4        42.75   43.00    6800         211650  \n",
       "...        ...     ...     ...            ...  \n",
       "698088  325.70  325.70    3000         915000  \n",
       "698089  325.55  325.55    3000         915000  \n",
       "698090  326.50  327.00    6000           9000  \n",
       "698091  327.00  328.15    3000          12000  \n",
       "698092  326.35  326.35    3000          15000  \n",
       "\n",
       "[698093 rows x 9 columns]"
      ]
     },
     "execution_count": 3,
     "metadata": {},
     "output_type": "execute_result"
    }
   ],
   "source": [
    "df"
   ]
  },
  {
   "cell_type": "code",
   "execution_count": 4,
   "id": "ef77e59e",
   "metadata": {},
   "outputs": [],
   "source": [
    "df = df[df['Ticker'] == 'BANKNIFTY-I.NFO']"
   ]
  },
  {
   "cell_type": "code",
   "execution_count": 5,
   "id": "4733d1d7",
   "metadata": {},
   "outputs": [
    {
     "data": {
      "text/plain": [
       "Ticker            object\n",
       "Date              object\n",
       "Time              object\n",
       "Open             float64\n",
       "High             float64\n",
       "Low              float64\n",
       "Close            float64\n",
       "Volume             int64\n",
       "Open Interest      int64\n",
       "dtype: object"
      ]
     },
     "execution_count": 5,
     "metadata": {},
     "output_type": "execute_result"
    }
   ],
   "source": [
    "df.dtypes"
   ]
  },
  {
   "cell_type": "code",
   "execution_count": 6,
   "id": "52137088",
   "metadata": {},
   "outputs": [
    {
     "name": "stderr",
     "output_type": "stream",
     "text": [
      "C:\\Users\\Ankit\\AppData\\Local\\Temp\\ipykernel_9272\\3048845850.py:1: SettingWithCopyWarning: \n",
      "A value is trying to be set on a copy of a slice from a DataFrame.\n",
      "Try using .loc[row_indexer,col_indexer] = value instead\n",
      "\n",
      "See the caveats in the documentation: https://pandas.pydata.org/pandas-docs/stable/user_guide/indexing.html#returning-a-view-versus-a-copy\n",
      "  df['date_time'] = df['Date'] + \" \" + df['Time']\n"
     ]
    }
   ],
   "source": [
    "df['date_time'] = df['Date'] + \" \" + df['Time']"
   ]
  },
  {
   "cell_type": "code",
   "execution_count": 7,
   "id": "011d21bf",
   "metadata": {},
   "outputs": [
    {
     "name": "stderr",
     "output_type": "stream",
     "text": [
      "C:\\Users\\Ankit\\AppData\\Local\\Temp\\ipykernel_9272\\3163265590.py:1: SettingWithCopyWarning: \n",
      "A value is trying to be set on a copy of a slice from a DataFrame.\n",
      "Try using .loc[row_indexer,col_indexer] = value instead\n",
      "\n",
      "See the caveats in the documentation: https://pandas.pydata.org/pandas-docs/stable/user_guide/indexing.html#returning-a-view-versus-a-copy\n",
      "  df['date_time'] = pd.to_datetime(df['date_time'])\n"
     ]
    }
   ],
   "source": [
    "df['date_time'] = pd.to_datetime(df['date_time'])"
   ]
  },
  {
   "cell_type": "code",
   "execution_count": 8,
   "id": "d0b8bffd",
   "metadata": {},
   "outputs": [
    {
     "data": {
      "text/plain": [
       "Ticker                   object\n",
       "Date                     object\n",
       "Time                     object\n",
       "Open                    float64\n",
       "High                    float64\n",
       "Low                     float64\n",
       "Close                   float64\n",
       "Volume                    int64\n",
       "Open Interest             int64\n",
       "date_time        datetime64[ns]\n",
       "dtype: object"
      ]
     },
     "execution_count": 8,
     "metadata": {},
     "output_type": "execute_result"
    }
   ],
   "source": [
    "df.dtypes"
   ]
  },
  {
   "cell_type": "code",
   "execution_count": 9,
   "id": "c060cbf6",
   "metadata": {},
   "outputs": [
    {
     "name": "stderr",
     "output_type": "stream",
     "text": [
      "C:\\Users\\Ankit\\AppData\\Local\\Temp\\ipykernel_9272\\2613936645.py:1: SettingWithCopyWarning: \n",
      "A value is trying to be set on a copy of a slice from a DataFrame.\n",
      "Try using .loc[row_indexer,col_indexer] = value instead\n",
      "\n",
      "See the caveats in the documentation: https://pandas.pydata.org/pandas-docs/stable/user_guide/indexing.html#returning-a-view-versus-a-copy\n",
      "  df['date_time'] = df['date_time'].dt.strftime('%d/%m/%Y %H:%M')\n"
     ]
    }
   ],
   "source": [
    "df['date_time'] = df['date_time'].dt.strftime('%d/%m/%Y %H:%M')"
   ]
  },
  {
   "cell_type": "code",
   "execution_count": 10,
   "id": "4da42135",
   "metadata": {},
   "outputs": [],
   "source": [
    "df = df.drop(['Ticker'], axis=1)\n",
    "df = df.drop(['Date'], axis=1)\n",
    "df = df.drop(['Time'], axis=1)\n",
    "df = df.drop(['Volume'], axis=1)\n",
    "df = df.drop(['Open Interest'], axis=1)"
   ]
  },
  {
   "cell_type": "code",
   "execution_count": 11,
   "id": "2fa8abb2",
   "metadata": {},
   "outputs": [
    {
     "data": {
      "text/html": [
       "<div>\n",
       "<style scoped>\n",
       "    .dataframe tbody tr th:only-of-type {\n",
       "        vertical-align: middle;\n",
       "    }\n",
       "\n",
       "    .dataframe tbody tr th {\n",
       "        vertical-align: top;\n",
       "    }\n",
       "\n",
       "    .dataframe thead th {\n",
       "        text-align: right;\n",
       "    }\n",
       "</style>\n",
       "<table border=\"1\" class=\"dataframe\">\n",
       "  <thead>\n",
       "    <tr style=\"text-align: right;\">\n",
       "      <th></th>\n",
       "      <th>Open</th>\n",
       "      <th>High</th>\n",
       "      <th>Low</th>\n",
       "      <th>Close</th>\n",
       "    </tr>\n",
       "    <tr>\n",
       "      <th>date_time</th>\n",
       "      <th></th>\n",
       "      <th></th>\n",
       "      <th></th>\n",
       "      <th></th>\n",
       "    </tr>\n",
       "  </thead>\n",
       "  <tbody>\n",
       "    <tr>\n",
       "      <th>01/03/2022 09:15</th>\n",
       "      <td>36621.00</td>\n",
       "      <td>36621.00</td>\n",
       "      <td>35708.05</td>\n",
       "      <td>35811.85</td>\n",
       "    </tr>\n",
       "    <tr>\n",
       "      <th>01/03/2022 09:16</th>\n",
       "      <td>35813.95</td>\n",
       "      <td>35825.75</td>\n",
       "      <td>35798.70</td>\n",
       "      <td>35798.70</td>\n",
       "    </tr>\n",
       "    <tr>\n",
       "      <th>01/03/2022 09:17</th>\n",
       "      <td>35796.55</td>\n",
       "      <td>35796.90</td>\n",
       "      <td>35757.40</td>\n",
       "      <td>35782.60</td>\n",
       "    </tr>\n",
       "    <tr>\n",
       "      <th>01/03/2022 09:18</th>\n",
       "      <td>35782.60</td>\n",
       "      <td>35834.25</td>\n",
       "      <td>35782.60</td>\n",
       "      <td>35834.25</td>\n",
       "    </tr>\n",
       "    <tr>\n",
       "      <th>01/03/2022 09:19</th>\n",
       "      <td>35830.50</td>\n",
       "      <td>35839.65</td>\n",
       "      <td>35823.40</td>\n",
       "      <td>35835.00</td>\n",
       "    </tr>\n",
       "    <tr>\n",
       "      <th>...</th>\n",
       "      <td>...</td>\n",
       "      <td>...</td>\n",
       "      <td>...</td>\n",
       "      <td>...</td>\n",
       "    </tr>\n",
       "    <tr>\n",
       "      <th>01/03/2022 15:26</th>\n",
       "      <td>36618.10</td>\n",
       "      <td>36619.95</td>\n",
       "      <td>36608.95</td>\n",
       "      <td>36619.95</td>\n",
       "    </tr>\n",
       "    <tr>\n",
       "      <th>01/03/2022 15:27</th>\n",
       "      <td>36618.20</td>\n",
       "      <td>36625.00</td>\n",
       "      <td>36617.35</td>\n",
       "      <td>36625.00</td>\n",
       "    </tr>\n",
       "    <tr>\n",
       "      <th>01/03/2022 15:28</th>\n",
       "      <td>36622.00</td>\n",
       "      <td>36631.85</td>\n",
       "      <td>36618.10</td>\n",
       "      <td>36631.65</td>\n",
       "    </tr>\n",
       "    <tr>\n",
       "      <th>01/03/2022 15:29</th>\n",
       "      <td>36628.50</td>\n",
       "      <td>36642.00</td>\n",
       "      <td>36624.60</td>\n",
       "      <td>36642.00</td>\n",
       "    </tr>\n",
       "    <tr>\n",
       "      <th>01/03/2022 15:30</th>\n",
       "      <td>36640.00</td>\n",
       "      <td>36644.00</td>\n",
       "      <td>36640.00</td>\n",
       "      <td>36640.00</td>\n",
       "    </tr>\n",
       "  </tbody>\n",
       "</table>\n",
       "<p>376 rows × 4 columns</p>\n",
       "</div>"
      ],
      "text/plain": [
       "                      Open      High       Low     Close\n",
       "date_time                                               \n",
       "01/03/2022 09:15  36621.00  36621.00  35708.05  35811.85\n",
       "01/03/2022 09:16  35813.95  35825.75  35798.70  35798.70\n",
       "01/03/2022 09:17  35796.55  35796.90  35757.40  35782.60\n",
       "01/03/2022 09:18  35782.60  35834.25  35782.60  35834.25\n",
       "01/03/2022 09:19  35830.50  35839.65  35823.40  35835.00\n",
       "...                    ...       ...       ...       ...\n",
       "01/03/2022 15:26  36618.10  36619.95  36608.95  36619.95\n",
       "01/03/2022 15:27  36618.20  36625.00  36617.35  36625.00\n",
       "01/03/2022 15:28  36622.00  36631.85  36618.10  36631.65\n",
       "01/03/2022 15:29  36628.50  36642.00  36624.60  36642.00\n",
       "01/03/2022 15:30  36640.00  36644.00  36640.00  36640.00\n",
       "\n",
       "[376 rows x 4 columns]"
      ]
     },
     "execution_count": 11,
     "metadata": {},
     "output_type": "execute_result"
    }
   ],
   "source": [
    "df=df.reset_index(drop=True)\n",
    "shift_column = df.pop('date_time')\n",
    "df.insert(0, 'date_time', shift_column)\n",
    "df.set_index('date_time')"
   ]
  },
  {
   "cell_type": "code",
   "execution_count": 12,
   "id": "2a8a2823",
   "metadata": {},
   "outputs": [],
   "source": [
    "df.to_csv('future_data.csv')"
   ]
  },
  {
   "cell_type": "code",
   "execution_count": null,
   "id": "11b8a873",
   "metadata": {},
   "outputs": [],
   "source": []
  }
 ],
 "metadata": {
  "kernelspec": {
   "display_name": "Python 3 (ipykernel)",
   "language": "python",
   "name": "python3"
  },
  "language_info": {
   "codemirror_mode": {
    "name": "ipython",
    "version": 3
   },
   "file_extension": ".py",
   "mimetype": "text/x-python",
   "name": "python",
   "nbconvert_exporter": "python",
   "pygments_lexer": "ipython3",
   "version": "3.10.4"
  }
 },
 "nbformat": 4,
 "nbformat_minor": 5
}
